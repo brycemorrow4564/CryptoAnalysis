{
 "cells": [
  {
   "cell_type": "code",
   "execution_count": null,
   "metadata": {},
   "outputs": [],
   "source": [
    "import itertools \n",
    "\n",
    "a = [1,2,3]\n",
    "b = [7,8,9]\n",
    "c = [set(elem) for elem in itertools.product(a,b)] #all possible m/f pairs\n",
    "\n",
    "indices = itertools.combinations([i for i in range(sum([1 for elem in c]))], 3)\n",
    "count = 0\n",
    "for ind in indices: \n",
    "    print (ind)\n",
    "    #ind contains 6 indices\n",
    "    sets = [c[x] for x in list(ind)]\n",
    "    fail = False \n",
    "    for i in range(len(sets)): \n",
    "        if fail: \n",
    "            break \n",
    "        for j in range(len(sets)): \n",
    "            if i == j: \n",
    "                continue \n",
    "            else: \n",
    "                if not sets[i].isdisjoint(sets[j]): \n",
    "                    fail = True\n",
    "                    break \n",
    "    if not fail: \n",
    "        count += 1\n",
    "                \n",
    "print (count)\n",
    "\n",
    "\n",
    "\n"
   ]
  },
  {
   "cell_type": "code",
   "execution_count": null,
   "metadata": {
    "collapsed": true
   },
   "outputs": [],
   "source": []
  }
 ],
 "metadata": {
  "kernelspec": {
   "display_name": "Python 3",
   "language": "python",
   "name": "python3"
  },
  "language_info": {
   "codemirror_mode": {
    "name": "ipython",
    "version": 3
   },
   "file_extension": ".py",
   "mimetype": "text/x-python",
   "name": "python",
   "nbconvert_exporter": "python",
   "pygments_lexer": "ipython3",
   "version": "3.6.2"
  }
 },
 "nbformat": 4,
 "nbformat_minor": 2
}
