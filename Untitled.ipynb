{
 "cells": [
  {
   "cell_type": "code",
   "execution_count": 16,
   "metadata": {},
   "outputs": [
    {
     "name": "stdout",
     "output_type": "stream",
     "text": [
      "For 1 we have 0 and 0\n",
      "For 2 we have 0 and 0\n",
      "For 3 we have 0 and 0\n",
      "For 4 we have 1 and 1\n",
      "For 5 we have 2 and 2\n",
      "For 6 we have 3 and 3\n",
      "For 7 we have 5 and 5\n",
      "For 8 we have 7 and 7\n",
      "For 9 we have 9 and 9\n",
      "For 10 we have 12 and 12\n",
      "For 11 we have 15 and 15\n",
      "For 12 we have 18 and 18\n",
      "For 13 we have 22 and 22\n",
      "For 14 we have 26 and 26\n",
      "For 15 we have 30 and 30\n",
      "For 16 we have 35 and 35\n",
      "For 17 we have 40 and 40\n",
      "For 18 we have 45 and 45\n",
      "For 19 we have 51 and 51\n",
      "For 20 we have 57 and 57\n",
      "For 21 we have 63 and 63\n"
     ]
    }
   ],
   "source": [
    "def out_val(n, a): \n",
    "    count = 0\n",
    "    for i in [num for num in range(n-1)][::-1]: \n",
    "        for j in [num for num in range(i+1)][::-1]: \n",
    "            #print ('i is ' + str(i) + ' and j is ' + str(j))\n",
    "            if a[j+1] >= a[j]: \n",
    "                count += 1\n",
    "    return count \n",
    "\n",
    "def generate_a(n): \n",
    "    a = [0 for x in range(n)]\n",
    "    p = 0\n",
    "    c = 3\n",
    "    while p < len(a):\n",
    "        a[p] = c\n",
    "        p += 1\n",
    "        c = c - 1 if c - 1 != 0 else 3\n",
    "    return a\n",
    "\n",
    "def sum_form(n): \n",
    "    count = 0\n",
    "    for i in range(1,n+1): \n",
    "        count += (i-1)//3\n",
    "    return count \n",
    "\n",
    "\n",
    "ns = [x + 1 for x in range(21)]\n",
    "for n in ns: \n",
    "    a = generate_a(n)\n",
    "    print(\"For \" + str(n) + \" we have \" + str(out_val(n,a)) + ' and ' + str(sum_form(n)))\n"
   ]
  },
  {
   "cell_type": "code",
   "execution_count": null,
   "metadata": {
    "collapsed": true
   },
   "outputs": [],
   "source": []
  },
  {
   "cell_type": "code",
   "execution_count": 41,
   "metadata": {},
   "outputs": [
    {
     "name": "stdout",
     "output_type": "stream",
     "text": [
      "For 1 we have 1 permutations of no heads from a total of 2\n",
      "For 2 we have 1 permutations of no heads from a total of 4\n",
      "For 3 we have 1 permutations of no heads from a total of 8\n",
      "For 4 we have 1 permutations of no heads from a total of 16\n",
      "For 5 we have 1 permutations of no heads from a total of 32\n",
      "For 6 we have 1 permutations of no heads from a total of 64\n",
      "For 7 we have 1 permutations of no heads from a total of 128\n",
      "For 8 we have 1 permutations of no heads from a total of 256\n",
      "For 9 we have 1 permutations of no heads from a total of 512\n"
     ]
    }
   ],
   "source": [
    "from itertools import product\n",
    "\n",
    "for n in range(1,10): \n",
    "    a = [list(elem) for elem in list(product(['H','T'], repeat=n))]\n",
    "    cnh = 0\n",
    "    tc = 0\n",
    "    for elem in a: \n",
    "        tc += 1\n",
    "        flag = True \n",
    "        for x in elem: \n",
    "            if x == 'H': \n",
    "                flag = False\n",
    "                break \n",
    "        if flag: \n",
    "            cnh += 1\n",
    "                \n",
    "                \n",
    "    print (\"For \" + str(n) + \" we have \" + str(cnh) + \" permutations of no heads from a total of \" + str(tc))\n",
    "        "
   ]
  },
  {
   "cell_type": "code",
   "execution_count": null,
   "metadata": {
    "collapsed": true
   },
   "outputs": [],
   "source": []
  },
  {
   "cell_type": "code",
   "execution_count": null,
   "metadata": {
    "collapsed": true
   },
   "outputs": [],
   "source": []
  }
 ],
 "metadata": {
  "kernelspec": {
   "display_name": "Python 3",
   "language": "python",
   "name": "python3"
  },
  "language_info": {
   "codemirror_mode": {
    "name": "ipython",
    "version": 3
   },
   "file_extension": ".py",
   "mimetype": "text/x-python",
   "name": "python",
   "nbconvert_exporter": "python",
   "pygments_lexer": "ipython3",
   "version": "3.6.2"
  }
 },
 "nbformat": 4,
 "nbformat_minor": 2
}
